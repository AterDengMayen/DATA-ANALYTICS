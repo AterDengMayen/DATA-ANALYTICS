{
 "cells": [
  {
   "cell_type": "markdown",
   "id": "b316ae09",
   "metadata": {},
   "source": [
    " # Getting Started with Python for Data Analysis "
   ]
  },
  {
   "cell_type": "code",
   "execution_count": null,
   "id": "9a432749",
   "metadata": {},
   "outputs": [
    {
     "ename": "SyntaxError",
     "evalue": "invalid syntax (3768478930.py, line 10)",
     "output_type": "error",
     "traceback": [
      "  \u001b[36mCell\u001b[39m\u001b[36m \u001b[39m\u001b[32mIn[21]\u001b[39m\u001b[32m, line 10\u001b[39m\n\u001b[31m    \u001b[39m\u001b[31mpip install pandas\u001b[39m\n        ^\n\u001b[31mSyntaxError\u001b[39m\u001b[31m:\u001b[39m invalid syntax\n"
     ]
    }
   ],
   "source": [
    "# Step 1: Import our data analysis toolkit \n",
    "import pandas as pd # Will load and organize the sales data \n",
    "import numpy as np # Will calculate averages, totals, and trends \n",
    "import matplotlib.pyplot as plt # Will create charts showing sales over time \n",
    "import seaborn as sns # Will make beautiful visualizations of customer patterns \n",
    "# Step 2: Ready to analyze! \n",
    "# (We'll learn how to load and work with data in the next modules) \n",
    "print(\"Libraries imported successfully! Ready to analyze supermarket data! ����\")\n",
    "\n",
    "pip install pandas"
   ]
  },
  {
   "cell_type": "code",
   "execution_count": 5,
   "id": "11fb40d8",
   "metadata": {},
   "outputs": [
    {
     "name": "stdout",
     "output_type": "stream",
     "text": [
      "Collecting pandas\n",
      "  Using cached pandas-2.3.0-cp313-cp313-macosx_10_13_x86_64.whl.metadata (91 kB)\n",
      "Collecting numpy\n",
      "  Using cached numpy-2.3.1-cp313-cp313-macosx_10_13_x86_64.whl.metadata (62 kB)\n",
      "Collecting matplotlib\n",
      "  Downloading matplotlib-3.10.3-cp313-cp313-macosx_10_13_x86_64.whl.metadata (11 kB)\n",
      "Collecting seaborn\n",
      "  Downloading seaborn-0.13.2-py3-none-any.whl.metadata (5.4 kB)\n",
      "Requirement already satisfied: python-dateutil>=2.8.2 in /Users/hcl/Library/Python/3.13/lib/python/site-packages (from pandas) (2.9.0.post0)\n",
      "Collecting pytz>=2020.1 (from pandas)\n",
      "  Using cached pytz-2025.2-py2.py3-none-any.whl.metadata (22 kB)\n",
      "Collecting tzdata>=2022.7 (from pandas)\n",
      "  Using cached tzdata-2025.2-py2.py3-none-any.whl.metadata (1.4 kB)\n",
      "Collecting contourpy>=1.0.1 (from matplotlib)\n",
      "  Downloading contourpy-1.3.2-cp313-cp313-macosx_10_13_x86_64.whl.metadata (5.5 kB)\n",
      "Collecting cycler>=0.10 (from matplotlib)\n",
      "  Downloading cycler-0.12.1-py3-none-any.whl.metadata (3.8 kB)\n",
      "Collecting fonttools>=4.22.0 (from matplotlib)\n",
      "  Downloading fonttools-4.58.4-cp313-cp313-macosx_10_13_x86_64.whl.metadata (106 kB)\n",
      "Collecting kiwisolver>=1.3.1 (from matplotlib)\n",
      "  Downloading kiwisolver-1.4.8-cp313-cp313-macosx_10_13_x86_64.whl.metadata (6.2 kB)\n",
      "Requirement already satisfied: packaging>=20.0 in /Users/hcl/Library/Python/3.13/lib/python/site-packages (from matplotlib) (25.0)\n",
      "Collecting pillow>=8 (from matplotlib)\n",
      "  Downloading pillow-11.3.0-cp313-cp313-macosx_10_13_x86_64.whl.metadata (9.0 kB)\n",
      "Collecting pyparsing>=2.3.1 (from matplotlib)\n",
      "  Downloading pyparsing-3.2.3-py3-none-any.whl.metadata (5.0 kB)\n",
      "Requirement already satisfied: six>=1.5 in /Users/hcl/Library/Python/3.13/lib/python/site-packages (from python-dateutil>=2.8.2->pandas) (1.17.0)\n",
      "Using cached pandas-2.3.0-cp313-cp313-macosx_10_13_x86_64.whl (11.5 MB)\n",
      "Downloading numpy-2.3.1-cp313-cp313-macosx_10_13_x86_64.whl (20.9 MB)\n",
      "\u001b[2K   \u001b[90m━━━━━━━━━━━━━━━━━━━━━━━━━━━━━━━━━━━━━━━━\u001b[0m \u001b[32m20.9/20.9 MB\u001b[0m \u001b[31m826.8 kB/s\u001b[0m eta \u001b[36m0:00:00\u001b[0m00:01\u001b[0m00:01\u001b[0m\n",
      "\u001b[?25hDownloading matplotlib-3.10.3-cp313-cp313-macosx_10_13_x86_64.whl (8.2 MB)\n",
      "\u001b[2K   \u001b[90m━━━━━━━━━━━━━━━━━━━━━━━━━━━━━━━━━━━━━━━━\u001b[0m \u001b[32m8.2/8.2 MB\u001b[0m \u001b[31m2.4 MB/s\u001b[0m eta \u001b[36m0:00:00\u001b[0m00:01\u001b[0m00:01\u001b[0m\n",
      "\u001b[?25hDownloading seaborn-0.13.2-py3-none-any.whl (294 kB)\n",
      "Downloading contourpy-1.3.2-cp313-cp313-macosx_10_13_x86_64.whl (271 kB)\n",
      "Downloading cycler-0.12.1-py3-none-any.whl (8.3 kB)\n",
      "Downloading fonttools-4.58.4-cp313-cp313-macosx_10_13_x86_64.whl (2.3 MB)\n",
      "\u001b[2K   \u001b[90m━━━━━━━━━━━━━━━━━━━━━━━━━━━━━━━━━━━━━━━━\u001b[0m \u001b[32m2.3/2.3 MB\u001b[0m \u001b[31m1.3 MB/s\u001b[0m eta \u001b[36m0:00:00\u001b[0ma \u001b[36m0:00:01\u001b[0m0m\n",
      "\u001b[?25hDownloading kiwisolver-1.4.8-cp313-cp313-macosx_10_13_x86_64.whl (66 kB)\n",
      "Downloading pillow-11.3.0-cp313-cp313-macosx_10_13_x86_64.whl (5.3 MB)\n",
      "\u001b[2K   \u001b[90m━━━━━━━━━━━━━━━━━━━━━━━━━━━━━━━━━━━━━━━━\u001b[0m \u001b[32m5.3/5.3 MB\u001b[0m \u001b[31m3.0 MB/s\u001b[0m eta \u001b[36m0:00:00\u001b[0ma \u001b[36m0:00:01\u001b[0m\n",
      "\u001b[?25hDownloading pyparsing-3.2.3-py3-none-any.whl (111 kB)\n",
      "Downloading pytz-2025.2-py2.py3-none-any.whl (509 kB)\n",
      "Downloading tzdata-2025.2-py2.py3-none-any.whl (347 kB)\n",
      "Installing collected packages: pytz, tzdata, pyparsing, pillow, numpy, kiwisolver, fonttools, cycler, pandas, contourpy, matplotlib, seaborn\n",
      "\u001b[2K   \u001b[90m━━━━━━━━━━━━━━━━━━━━━━━━━━━━━━━━━━━━━━━━\u001b[0m \u001b[32m12/12\u001b[0m [seaborn]1/12\u001b[0m [seaborn]ib]\n",
      "\u001b[1A\u001b[2KSuccessfully installed contourpy-1.3.2 cycler-0.12.1 fonttools-4.58.4 kiwisolver-1.4.8 matplotlib-3.10.3 numpy-2.3.1 pandas-2.3.0 pillow-11.3.0 pyparsing-3.2.3 pytz-2025.2 seaborn-0.13.2 tzdata-2025.2\n",
      "Note: you may need to restart the kernel to use updated packages.\n"
     ]
    }
   ],
   "source": [
    "pip install pandas numpy matplotlib seaborn"
   ]
  },
  {
   "cell_type": "code",
   "execution_count": 11,
   "id": "8d9a7ccf",
   "metadata": {},
   "outputs": [
    {
     "ename": "SyntaxError",
     "evalue": "unterminated string literal (detected at line 1) (1479013010.py, line 1)",
     "output_type": "error",
     "traceback": [
      "  \u001b[36mCell\u001b[39m\u001b[36m \u001b[39m\u001b[32mIn[11]\u001b[39m\u001b[32m, line 1\u001b[39m\n\u001b[31m    \u001b[39m\u001b[31msample_data={'Name':[John Wick','Sarah Athur','Gedion Michael','Mary Ogola','Chinua Achebe'],\u001b[39m\n                                                                                              ^\n\u001b[31mSyntaxError\u001b[39m\u001b[31m:\u001b[39m unterminated string literal (detected at line 1)\n"
     ]
    }
   ],
   "source": [
    "\n",
    "\n",
    "\n",
    "\n",
    "sample_data={'Name':[John Wick','Sarah Athur','Gedion Michael','Mary Ogola','Chinua Achebe'],\n",
    "'Age':[34,23,45,56,76'56],\n",
    "'books_authored':[3,34,6,67,87]}"
   ]
  },
  {
   "cell_type": "code",
   "execution_count": 12,
   "id": "f7b93dc0",
   "metadata": {},
   "outputs": [
    {
     "name": "stderr",
     "output_type": "stream",
     "text": [
      "Matplotlib is building the font cache; this may take a moment.\n"
     ]
    },
    {
     "name": "stdout",
     "output_type": "stream",
     "text": [
      "Libraries imported successfully! Ready to analyze supermarket data! ����\n"
     ]
    }
   ],
   "source": [
    "# Step 1: Import our data analysis toolkit \n",
    "import pandas as pd # Will load and organize the sales data \n",
    "import numpy as np # Will calculate averages, totals, and trends \n",
    "import matplotlib.pyplot as plt # Will create charts showing sales over time \n",
    "import seaborn as sns # Will make beautiful visualizations of customer patterns \n",
    "# Step 2: Ready to analyze! \n",
    "# (We'll learn how to load and work with data in the next modules) \n",
    "print(\"Libraries imported successfully! Ready to analyze supermarket data! ����\")"
   ]
  },
  {
   "cell_type": "code",
   "execution_count": 13,
   "id": "58f80ee7",
   "metadata": {},
   "outputs": [
    {
     "name": "stdout",
     "output_type": "stream",
     "text": [
      "�� Setting up our data analysis environment...\n",
      "✅ All libraries imported successfully!\n"
     ]
    }
   ],
   "source": [
    "# === STEP 1: Import all necessary libraries === \n",
    "print(\"�� Setting up our data analysis environment...\") \n",
    "import pandas as pd \n",
    "import numpy as np \n",
    "import matplotlib.pyplot as plt \n",
    "import seaborn as sns \n",
    "print(\"✅ All libraries imported successfully!\") "
   ]
  },
  {
   "cell_type": "code",
   "execution_count": 14,
   "id": "af84b698",
   "metadata": {},
   "outputs": [
    {
     "name": "stdout",
     "output_type": "stream",
     "text": [
      "�� Pandas version: 2.3.0\n",
      "�� Numpy version: 2.3.1\n",
      "�� Matplotlib and Seaborn are ready for visualization!\n"
     ]
    }
   ],
   "source": [
    "# === STEP 2: Test that everything works === \n",
    "print(f\"�� Pandas version: {pd.__version__}\") \n",
    "print(f\"�� Numpy version: {np.__version__}\") \n",
    "print(\"�� Matplotlib and Seaborn are ready for visualization!\") "
   ]
  },
  {
   "cell_type": "code",
   "execution_count": 15,
   "id": "2d7dfb48",
   "metadata": {},
   "outputs": [],
   "source": [
    "# === STEP 3: Create a simple example === \n",
    "# Let's create some sample data to prove everything works \n",
    "sample_data = { \n",
    "'Product': ['Apples', 'Bananas', 'Oranges', 'Bread', 'Milk'], \n",
    "'Sales': [150, 200, 120, 300, 250], \n",
    "'Profit': [45, 80, 36, 90, 75] \n",
    "} \n"
   ]
  },
  {
   "cell_type": "code",
   "execution_count": 16,
   "id": "b63bf776",
   "metadata": {},
   "outputs": [
    {
     "name": "stdout",
     "output_type": "stream",
     "text": [
      "\n",
      "�� Sample supermarket data:\n",
      "   Product  Sales  Profit\n",
      "0   Apples    150      45\n",
      "1  Bananas    200      80\n",
      "2  Oranges    120      36\n",
      "3    Bread    300      90\n",
      "4     Milk    250      75\n",
      "\n",
      "�� Everything is working! You're ready to analyze data!\n"
     ]
    }
   ],
   "source": [
    "# Convert to a pandas DataFrame (think of it as a smart table) \n",
    "df = pd.DataFrame(sample_data) \n",
    "print(\"\\n�� Sample supermarket data:\") \n",
    "print(df) \n",
    "print(\"\\n�� Everything is working! You're ready to analyze data!\")\n"
   ]
  },
  {
   "cell_type": "code",
   "execution_count": 19,
   "id": "21652c92",
   "metadata": {},
   "outputs": [
    {
     "name": "stdout",
     "output_type": "stream",
     "text": [
      "   Product  Sales  Profit\n",
      "0   Apples    150      45\n",
      "1  Bananas    200      80\n",
      "2  Oranges    120      36\n",
      "3    Bread    300      90\n",
      "4     Milk    250      75\n"
     ]
    }
   ],
   "source": [
    "print(df)"
   ]
  },
  {
   "cell_type": "markdown",
   "id": "10c1bc34",
   "metadata": {},
   "source": [
    "# Import Practice \n",
    "### Try importing the libraries yourself. Copy this code and fill in the missing parts: \n"
   ]
  },
  {
   "cell_type": "code",
   "execution_count": 20,
   "id": "a1ca9965",
   "metadata": {},
   "outputs": [
    {
     "name": "stdout",
     "output_type": "stream",
     "text": [
      "Success! All libraries imported correctly! ��\n"
     ]
    }
   ],
   "source": [
    "# Import pandas with alias ___ \n",
    "import pandas as pd\n",
    "# Import numpy with alias ___ \n",
    "import numpy as np\n",
    "# Import matplotlib.pyplot with alias ___ \n",
    "import matplotlib.pyplot as plt\n",
    "# Import seaborn with alias ___ \n",
    "import seaborn as sns\n",
    "# Test your imports \n",
    "print(\"Success! All libraries imported correctly! ��\") \n"
   ]
  },
  {
   "cell_type": "markdown",
   "id": "a4cb64ba",
   "metadata": {},
   "source": [
    "# LIBRARY EXPLANATION"
   ]
  },
  {
   "cell_type": "markdown",
   "id": "bbd4cce0",
   "metadata": {},
   "source": [
    "1. pandas is like a super-smart spreadsheet program.\n",
    "🧠 It's like Excel but with way more power — it helps you organize, clean, sort, and analyze data in rows and columns (called DataFrames). Perfect for dealing with real-world messy data.\n",
    "\n",
    "2. numpy is like a high-speed calculator for big lists of numbers.\n",
    "⚡ It's like a turbo-charged math engine that helps you do quick calculations on large sets of numbers or arrays. Think of it as the muscle behind scientific computing.\n",
    "\n",
    "3. matplotlib is like a digital sketchpad for your data.\n",
    "🎨 It's like drawing graphs with a pencil — you have full control to customize charts (bar, line, pie, etc.) and visualize your data from scratch, pixel by pixel.\n",
    "\n",
    "4. seaborn is like matplotlib's stylish cousin.\n",
    "🌈 It's like a charting app with built-in beauty filters — it makes beautiful, professional-looking graphs with just a few lines of code, especially great for statistics and data relationships.\n",
    "\n"
   ]
  },
  {
   "cell_type": "markdown",
   "id": "0a4ba5fe",
   "metadata": {},
   "source": []
  },
  {
   "cell_type": "markdown",
   "id": "af1bfc13",
   "metadata": {},
   "source": []
  }
 ],
 "metadata": {
  "kernelspec": {
   "display_name": "Python 3",
   "language": "python",
   "name": "python3"
  },
  "language_info": {
   "codemirror_mode": {
    "name": "ipython",
    "version": 3
   },
   "file_extension": ".py",
   "mimetype": "text/x-python",
   "name": "python",
   "nbconvert_exporter": "python",
   "pygments_lexer": "ipython3",
   "version": "3.13.5"
  }
 },
 "nbformat": 4,
 "nbformat_minor": 5
}
