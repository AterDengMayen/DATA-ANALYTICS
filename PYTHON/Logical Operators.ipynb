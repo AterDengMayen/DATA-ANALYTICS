{
 "cells": [
  {
   "cell_type": "markdown",
   "id": "471a0cd4",
   "metadata": {},
   "source": [
    "# LOGICAL OPERATORS"
   ]
  },
  {
   "cell_type": "markdown",
   "id": "34df3c32",
   "metadata": {},
   "source": [
    "Using python code to perform caculation ,compare values etcs\n"
   ]
  },
  {
   "cell_type": "markdown",
   "id": "3d2d810d",
   "metadata": {},
   "source": [
    "Basic Arithmetic Operation"
   ]
  },
  {
   "cell_type": "code",
   "execution_count": 3,
   "id": "3cdceab7",
   "metadata": {},
   "outputs": [
    {
     "data": {
      "text/plain": [
       "7"
      ]
     },
     "execution_count": 3,
     "metadata": {},
     "output_type": "execute_result"
    }
   ],
   "source": [
    "4+3"
   ]
  },
  {
   "cell_type": "code",
   "execution_count": 8,
   "id": "c88520ac",
   "metadata": {},
   "outputs": [
    {
     "name": "stdout",
     "output_type": "stream",
     "text": [
      "my total expenses this month was 16000\n"
     ]
    }
   ],
   "source": [
    "#Assume you must want to calculate your monthly expenses\n",
    "food=3000\n",
    "rent=5000\n",
    "wifi=1500\n",
    "miscellaneous=3500\n",
    "saving=3000\n",
    "total_expenses=food+rent+wifi+saving+miscellaneous\n",
    "print(\"my total expenses this month was\",total_expenses)\n",
    "\n"
   ]
  },
  {
   "cell_type": "code",
   "execution_count": null,
   "id": "3fa126bd",
   "metadata": {},
   "outputs": [],
   "source": [
    "#Assume you must want to calculate your monthly expenses\n",
    "food=3000\n",
    "rent=5000\n",
    "wifi=1500\n",
    "miscellaneous=3500\n",
    "saving=3000\n",
    "total_expenses=food+rent+wifi+saving+miscellaneous\n",
    "print(\"my total expenses this month was\",total_expenses)\n",
    "\n",
    "\n"
   ]
  },
  {
   "cell_type": "code",
   "execution_count": 1,
   "id": "96e2534c",
   "metadata": {},
   "outputs": [
    {
     "data": {
      "text/plain": [
       "18"
      ]
     },
     "execution_count": 1,
     "metadata": {},
     "output_type": "execute_result"
    }
   ],
   "source": [
    "9+9"
   ]
  },
  {
   "cell_type": "markdown",
   "id": "2e2b0356",
   "metadata": {},
   "source": [
    "### comparison operators(asking question about data)"
   ]
  },
  {
   "cell_type": "code",
   "execution_count": 4,
   "id": "2e4f38c7",
   "metadata": {},
   "outputs": [
    {
     "name": "stdout",
     "output_type": "stream",
     "text": [
      "Are we the same age? False\n",
      "Do we have different ages? True\n"
     ]
    }
   ],
   "source": [
    "# Let's compare ages\n",
    "my_age = 25\n",
    "friend_age = 28\n",
    "voting_age = 18\n",
    "# Equal to - are they exactly the same?\n",
    "same_age = my_age == friend_age\n",
    "print(\"Are we the same age?\", same_age) # Shows: False\n",
    "# Not equal to - are they different?\n",
    "different_ages = my_age != friend_age\n",
    "print(\"Do we have different ages?\", different_ages) # Shows: True\n"
   ]
  },
  {
   "cell_type": "code",
   "execution_count": 7,
   "id": "f0bde1f7",
   "metadata": {},
   "outputs": [
    {
     "name": "stdout",
     "output_type": "stream",
     "text": [
      "you can drink\n"
     ]
    }
   ],
   "source": [
    "age=23\n",
    "if age >=21:\n",
    "    print(\"you can drink\")\n",
    "\n"
   ]
  },
  {
   "cell_type": "code",
   "execution_count": null,
   "id": "d78890ec",
   "metadata": {},
   "outputs": [],
   "source": []
  },
  {
   "cell_type": "markdown",
   "id": "0a9e5339",
   "metadata": {},
   "source": [
    "## Logical Operators\n",
    "\n"
   ]
  },
  {
   "cell_type": "code",
   "execution_count": null,
   "id": "40b64c0f",
   "metadata": {},
   "outputs": [],
   "source": [
    "# to drive you must have a license and 18 years &"
   ]
  },
  {
   "cell_type": "markdown",
   "id": "9af7c72f",
   "metadata": {},
   "source": []
  },
  {
   "cell_type": "markdown",
   "id": "2947c0b7",
   "metadata": {},
   "source": [
    "##logical Op"
   ]
  },
  {
   "cell_type": "markdown",
   "id": "2a8eb5de",
   "metadata": {},
   "source": [
    "##"
   ]
  },
  {
   "cell_type": "markdown",
   "id": "0a81e2b8",
   "metadata": {},
   "source": [
    "## Simple if Statements (Do something only if a condition is true)"
   ]
  },
  {
   "cell_type": "code",
   "execution_count": 11,
   "id": "d4fc9c7a",
   "metadata": {},
   "outputs": [
    {
     "name": "stdout",
     "output_type": "stream",
     "text": [
      "Its too hot!! hydrate!!\n"
     ]
    }
   ],
   "source": [
    " \n",
    "temperature= 32\n",
    "\n",
    "if  temperature >=25:\n",
    "    print(\"Its too hot!! hydrate!!\")"
   ]
  },
  {
   "cell_type": "markdown",
   "id": "91a5fd63",
   "metadata": {},
   "source": [
    "## if-else Statements (Choose between two options)"
   ]
  },
  {
   "cell_type": "code",
   "execution_count": 10,
   "id": "180a6fbe",
   "metadata": {},
   "outputs": [
    {
     "name": "stdout",
     "output_type": "stream",
     "text": [
      "You're not old enough to vote yet.\n"
     ]
    }
   ],
   "source": [
    "age = 17\n",
    "if age >= 18:\n",
    "    print(\"You can vote in the election!\")\n",
    "else:\n",
    "    print(\"You're not old enough to vote yet.\")"
   ]
  },
  {
   "cell_type": "markdown",
   "id": "5d5278ed",
   "metadata": {},
   "source": [
    "## Multiple Conditions with elif (Choose from many options)\n",
    "elif is short for \"else if\" - it's like asking multiple questions in order:"
   ]
  },
  {
   "cell_type": "code",
   "execution_count": 12,
   "id": "554f4b8e",
   "metadata": {},
   "outputs": [
    {
     "name": "stdout",
     "output_type": "stream",
     "text": [
      "your grade is C\n"
     ]
    }
   ],
   "source": [
    "# create a grading system\n",
    "marks=65\n",
    "if marks>80:\n",
    "    print(\"your grade is A\")\n",
    "elif marks>=70 and marks<=79:\n",
    "    print(\"your grade is B\")\n",
    "elif marks>=60 and marks <=69:\n",
    "    print(\"your grade is C\")\n",
    "elif marks>=50 and marks<=59:\n",
    "    print(\"your grade is D\")\n",
    "else:\n",
    "    print(\"you failed!!!\")\n",
    "    "
   ]
  },
  {
   "cell_type": "code",
   "execution_count": 13,
   "id": "3a13cb37",
   "metadata": {},
   "outputs": [
    {
     "name": "stdout",
     "output_type": "stream",
     "text": [
      "Grade: B - Good job!\n"
     ]
    }
   ],
   "source": [
    "# Grade calculator\n",
    "score = 87\n",
    "if score >= 90:\n",
    "    print(\"Grade: A - Excellent work!\")\n",
    "elif score >= 80:\n",
    "    print(\"Grade: B - Good job!\")\n",
    "elif score >= 70:\n",
    "    print(\"Grade: C - Satisfactory\")\n",
    "elif score >= 60:\n",
    "    print(\"Grade: D - Needs improvement\")\n",
    "else:\n",
    "    print(\"Grade: F - Please see the teacher\")"
   ]
  }
 ],
 "metadata": {
  "kernelspec": {
   "display_name": "Python 3",
   "language": "python",
   "name": "python3"
  },
  "language_info": {
   "codemirror_mode": {
    "name": "ipython",
    "version": 3
   },
   "file_extension": ".py",
   "mimetype": "text/x-python",
   "name": "python",
   "nbconvert_exporter": "python",
   "pygments_lexer": "ipython3",
   "version": "3.13.5"
  }
 },
 "nbformat": 4,
 "nbformat_minor": 5
}
