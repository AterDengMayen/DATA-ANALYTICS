{
 "cells": [
  {
   "cell_type": "markdown",
   "id": "624b677c",
   "metadata": {},
   "source": [
    "# Even or Odd Checker\n",
    "\n",
    "## Ask the user to enter a number. Determine if it's even or odd, and print the result.\n"
   ]
  },
  {
   "cell_type": "code",
   "execution_count": 4,
   "id": "170b8fb6",
   "metadata": {},
   "outputs": [
    {
     "name": "stdout",
     "output_type": "stream",
     "text": [
      "7 is an odd number.\n"
     ]
    }
   ],
   "source": [
    "# Asking the user to input a number\n",
    "number = 7\n",
    "\n",
    "# Checking if the number is even or odd\n",
    "if number % 2 == 0:\n",
    "    print(f\"{number} is an even number.\")\n",
    "else:\n",
    "    print(f\"{number} is an odd number.\")\n"
   ]
  },
  {
   "cell_type": "markdown",
   "id": "3caaa9ed",
   "metadata": {},
   "source": []
  },
  {
   "cell_type": "markdown",
   "id": "f666a8e4",
   "metadata": {},
   "source": [
    "# Grade Classifier\n",
    "\n",
    "### Ask the user to enter a score (0–100). Then classify it using if, elif, and else"
   ]
  },
  {
   "cell_type": "code",
   "execution_count": 5,
   "id": "1b78b69f",
   "metadata": {},
   "outputs": [
    {
     "name": "stdout",
     "output_type": "stream",
     "text": [
      "Grade: B\n"
     ]
    }
   ],
   "source": [
    "# Getting the score from the user\n",
    "score = 80\n",
    "\n",
    "# Using if-elif-else to classify the grade\n",
    "if score >= 90 and score <= 100:\n",
    "    print(\"Grade: A\")\n",
    "elif score >= 80:\n",
    "    print(\"Grade: B\")\n",
    "elif score >= 70:\n",
    "    print(\"Grade: C\")\n",
    "elif score >= 60:\n",
    "    print(\"Grade: D\")\n",
    "else:\n",
    "    print(\"Grade: Fail\")\n",
    "    \n",
    "\n"
   ]
  },
  {
   "cell_type": "markdown",
   "id": "9665ef36",
   "metadata": {},
   "source": [
    "# Customer Discount Checker\n",
    "## Input customer type and purchase amount, then apply discounts based on the logic provided.\n"
   ]
  },
  {
   "cell_type": "markdown",
   "id": "a51d0da7",
   "metadata": {},
   "source": []
  },
  {
   "cell_type": "code",
   "execution_count": 13,
   "id": "026af975",
   "metadata": {},
   "outputs": [
    {
     "name": "stdout",
     "output_type": "stream",
     "text": [
      "Discount Applied: 10.0%\n",
      "Final Price: KES 14400.0\n"
     ]
    }
   ],
   "source": [
    "# Getting user input\n",
    "customer_type = \"regular\"\n",
    "purchase_amount =16000 \n",
    "\n",
    "# Calculating discount\n",
    "discount = 0\n",
    "if customer_type == \"premium\" and purchase_amount > 10000:\n",
    "    discount = 0.20\n",
    "elif customer_type == \"regular\" and purchase_amount > 15000:\n",
    "    discount = 0.10\n",
    "\n",
    "# Applying discount\n",
    "final_price = purchase_amount * (1 - discount)\n",
    "\n",
    "# Displaying results\n",
    "print(f\"Discount Applied: {discount * 100}%\")\n",
    "print(f\"Final Price: KES {final_price}\")\n"
   ]
  },
  {
   "cell_type": "markdown",
   "id": "597c18ae",
   "metadata": {},
   "source": [
    "# Simple Age Access Checker\n",
    "### Ask the user's age. If under 18 → access denied, else → access granted.\n"
   ]
  },
  {
   "cell_type": "code",
   "execution_count": 6,
   "id": "4a03628c",
   "metadata": {},
   "outputs": [
    {
     "name": "stdout",
     "output_type": "stream",
     "text": [
      "Access Granted.\n"
     ]
    }
   ],
   "source": [
    "# Asking for age\n",
    "age = 29\n",
    "\n",
    "# Checking access\n",
    "if age < 18:\n",
    "    print(\"Access Denied.\")\n",
    "else:\n",
    "    print(\"Access Granted.\")\n"
   ]
  },
  {
   "cell_type": "markdown",
   "id": "fc2ac247",
   "metadata": {},
   "source": [
    "# Scholarship Eligibility Checker (Optional)\n",
    "\n",
    "### Check if a user is eligible for a scholarship based on age and income.\n",
    "\n",
    "\n",
    "\n"
   ]
  },
  {
   "cell_type": "code",
   "execution_count": 7,
   "id": "434482c8",
   "metadata": {},
   "outputs": [
    {
     "name": "stdout",
     "output_type": "stream",
     "text": [
      "Eligible for scholarship.\n"
     ]
    }
   ],
   "source": [
    "# Getting input from user\n",
    "age = 22\n",
    "income = 19000\n",
    "\n",
    "# Eligibility check\n",
    "if age < 25 and income < 20000:\n",
    "    print(\"Eligible for scholarship.\")\n",
    "else:\n",
    "    print(\"Not eligible for scholarship.\")\n"
   ]
  },
  {
   "cell_type": "markdown",
   "id": "1c72ae96",
   "metadata": {},
   "source": [
    "# Account Check with not\n",
    "### Ask if the user has an account. If not 'yes', ask them to register."
   ]
  },
  {
   "cell_type": "markdown",
   "id": "1164a054",
   "metadata": {},
   "source": []
  },
  {
   "cell_type": "code",
   "execution_count": 9,
   "id": "9f3299f9",
   "metadata": {},
   "outputs": [
    {
     "name": "stdout",
     "output_type": "stream",
     "text": [
      "Please register to continue.\n"
     ]
    }
   ],
   "source": [
    "# Asking about account\n",
    "has_account = \"no\"\n",
    "\n",
    "# Using 'not' operator\n",
    "if not has_account == \"yes\":\n",
    "    print(\"Please register to continue.\")\n",
    "else:\n",
    "    print(\"Welcome back!\")\n"
   ]
  }
 ],
 "metadata": {
  "kernelspec": {
   "display_name": "Python 3",
   "language": "python",
   "name": "python3"
  },
  "language_info": {
   "codemirror_mode": {
    "name": "ipython",
    "version": 3
   },
   "file_extension": ".py",
   "mimetype": "text/x-python",
   "name": "python",
   "nbconvert_exporter": "python",
   "pygments_lexer": "ipython3",
   "version": "3.13.5"
  }
 },
 "nbformat": 4,
 "nbformat_minor": 5
}
